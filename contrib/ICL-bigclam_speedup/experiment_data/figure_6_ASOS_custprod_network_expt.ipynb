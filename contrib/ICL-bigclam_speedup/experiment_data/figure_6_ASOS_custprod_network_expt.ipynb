{
 "cells": [
  {
   "cell_type": "code",
   "execution_count": 1,
   "metadata": {
    "collapsed": true
   },
   "outputs": [],
   "source": [
    "import numpy as np\n",
    "import pandas as pd\n",
    "from matplotlib import pyplot as plt\n",
    "import matplotlib.ticker\n",
    "from scipy.stats import t\n",
    "import math"
   ]
  },
  {
   "cell_type": "code",
   "execution_count": 2,
   "metadata": {
    "collapsed": true
   },
   "outputs": [],
   "source": [
    "data = pd.read_csv(\"./asos_cust_prod_network_experiment.csv\")\n",
    "\n",
    "# Calculate the overall runtime = time spent in CT + GA + CA\n",
    "data['overall_runtime'] = \\\n",
    "    data['CT_runtime'] + data['GA_runtime'] + data['CA_runtime']"
   ]
  },
  {
   "cell_type": "code",
   "execution_count": 3,
   "metadata": {
    "collapsed": true
   },
   "outputs": [],
   "source": [
    "# Calculate statistics for each network and for each number of threads \n",
    "# tested\n",
    "grouped_data = \\\n",
    "    data[data['num_threads'] == 64] \\\n",
    "        .groupby(['num_communities', 'parallelised']) \\\n",
    "        .agg({\n",
    "            \"num_communities\": ['count'],\n",
    "            \"GA_runtime\": ['mean', 'std'],\n",
    "            \"CA_runtime\": ['mean', 'std'],\n",
    "            \"overall_runtime\": ['mean', 'std']\n",
    "        })\n",
    "        \n",
    "# Compressing the column levels and rename some volumes to more\n",
    "# sensible headings\n",
    "grouped_data.columns = \\\n",
    "    grouped_data.columns.get_level_values(0) + \"_\" + \\\n",
    "    grouped_data.columns.get_level_values(1)\n",
    "    \n",
    "grouped_data = \\\n",
    "    grouped_data \\\n",
    "        .reset_index()\\\n",
    "        .rename(columns={'num_communities_count':'num_samples'})\n",
    "        \n",
    "# Calculate the 95% CI width x (i.e. the 95% CI will be [-x, x]) \n",
    "# based on the std dev. and sample size\n",
    "def calculate_95_CI_pos_val(stdev, n):\n",
    "    return stdev / np.sqrt(n) * t.ppf(0.95, n-1)\n",
    "\n",
    "grouped_data['GA_runtime_95_CI'] = \\\n",
    "    grouped_data.apply(\n",
    "        lambda x: calculate_95_CI_pos_val(x['GA_runtime_std'], \n",
    "                                          x['num_samples']),\n",
    "        axis=1)\n",
    "\n",
    "grouped_data['CA_runtime_95_CI'] = \\\n",
    "    grouped_data.apply(\n",
    "        lambda x: calculate_95_CI_pos_val(x['CA_runtime_std'], \n",
    "                                          x['num_samples']),\n",
    "        axis=1)\n",
    "    \n",
    "grouped_data['overall_runtime_95_CI'] = \\\n",
    "    grouped_data.apply(\n",
    "        lambda x: calculate_95_CI_pos_val(x['overall_runtime_std'], \n",
    "                                          x['num_samples']),\n",
    "        axis=1)"
   ]
  },
  {
   "cell_type": "code",
   "execution_count": 4,
   "metadata": {
    "collapsed": false
   },
   "outputs": [
    {
     "data": {
      "text/plain": [
       "<matplotlib.figure.Figure at 0x11c003940>"
      ]
     },
     "metadata": {},
     "output_type": "display_data"
    },
    {
     "data": {
      "image/png": "[encoded data removed]",
      "text/plain": [
       "<matplotlib.figure.Figure at 0x11c00e128>"
      ]
     },
     "metadata": {},
     "output_type": "display_data"
    }
   ],
   "source": [
    "plt.clf()\n",
    "fig = plt.figure(figsize=(6.5, 2))\n",
    "\n",
    "stages = ['CA', 'overall']\n",
    "\n",
    "for stage in stages:\n",
    "        \n",
    "    ax = fig.add_subplot(1, len(stages), stages.index(stage) + 1)\n",
    "    \n",
    "    for parallelised in [True, False]:\n",
    "\n",
    "        # The actual runtime (with parallelisation) from experiments\n",
    "        ax.plot(grouped_data[grouped_data['parallelised'] == parallelised]\n",
    "                            ['num_communities'], \n",
    "                grouped_data[grouped_data['parallelised'] == parallelised]\n",
    "                            [stage + '_runtime_mean'],\n",
    "                color=('green' if parallelised else 'orange'), \n",
    "                ls=('-' if parallelised else '--'), \n",
    "                marker = '.')\n",
    "        \n",
    "        # The error bar on the actual runtime\n",
    "        ax.errorbar(grouped_data[grouped_data['parallelised'] == parallelised]\n",
    "                                ['num_communities'], \n",
    "                    grouped_data[grouped_data['parallelised'] == parallelised]\n",
    "                                [stage + '_runtime_mean'], \n",
    "                    grouped_data[grouped_data['parallelised'] == parallelised]\n",
    "                                [stage + '_runtime_95_CI'],\n",
    "                    color=('green' if parallelised else 'orange'),\n",
    "                    ls=('-' if parallelised else '--'))\n",
    "\n",
    "        ax.set_xscale('log')\n",
    "        ax.set_xlim(800, 80000)\n",
    "        ax.set_xticks([1000, 3000, 10000, 30000])\n",
    "        ax.get_xaxis().set_major_formatter(matplotlib.ticker.ScalarFormatter())\n",
    "\n",
    "#       Leave some padding on both ends of the y-axis, but not too much\n",
    "        ylim_low = -100 if np.min(grouped_data[stage + '_runtime_mean']) < 100 else 0\n",
    "        ylim_high = np.max(grouped_data[stage + '_runtime_mean']) * 1.1\n",
    "        \n",
    "        ax.set_ylim(ylim_low, ylim_high)\n",
    "\n",
    "        ax.set_xlabel('Number of communities to be found')\n",
    "        ax.set_ylabel('Runtime (' + stage + ')')\n",
    "        \n",
    "plt.tight_layout()\n",
    "        \n",
    "plt.show()\n",
    "# plt.savefig(\"./figures/asos_cust_prod_network_expt.pdf\",\n",
    "#             bbox_inches='tight', transparent=True)\n"
   ]
  },
  {
   "cell_type": "code",
   "execution_count": null,
   "metadata": {
    "collapsed": true
   },
   "outputs": [],
   "source": []
  }
 ],
 "metadata": {
  "anaconda-cloud": {},
  "kernelspec": {
   "display_name": "Python [conda env:Python3]",
   "language": "python",
   "name": "conda-env-Python3-py"
  },
  "language_info": {
   "codemirror_mode": {
    "name": "ipython",
    "version": 3
   },
   "file_extension": ".py",
   "mimetype": "text/x-python",
   "name": "python",
   "nbconvert_exporter": "python",
   "pygments_lexer": "ipython3",
   "version": "3.5.4"
  }
 },
 "nbformat": 4,
 "nbformat_minor": 1
}
